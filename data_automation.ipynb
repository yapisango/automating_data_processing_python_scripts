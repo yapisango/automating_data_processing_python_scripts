{
 "cells": [
  {
   "cell_type": "code",
   "execution_count": null,
   "id": "28b1a182",
   "metadata": {
    "vscode": {
     "languageId": "plaintext"
    }
   },
   "outputs": [],
   "source": [
    "import pandas as pd\n",
    "\n",
    "# Load the CSV file into a Pandas DataFrame\n",
    "data = pd.read_csv('customer_data.csv')\n",
    "\n",
    "# Handle missing values\n",
    "data.fillna('', inplace=True)  # Replace missing values with empty strings\n",
    "\n",
    "# Eradicate unique characters ($):\n",
    "data['Purchase 1'] = data['Purchase 1'].str.replace('$', '')\n",
    "data['Purchase 2'] = data['Purchase 2'].str.replace('$', '')\n",
    "data['Purchase 3'] = data['Purchase 3'].str.replace('$', '')\n",
    "\n",
    "# Set the type of data:\n",
    "for x in range(0, 191):\n",
    "    try:\n",
    "        data['Purchase 1'][x] = int(data['Purchase 1'][x])\n",
    "        data['Purchase 2'][x] = int(data['Purchase 2'][x])\n",
    "        data['Purchase 3'][x] = int(data['Purchase 3'][x])\n",
    "    except:\n",
    "        data['Purchase 1'][x] = 0\n",
    "        data['Purchase 2'][x] = 0\n",
    "        data['Purchase 3'][x] = 0\n",
    "\n",
    "# Standardize formatting\n",
    "data['Customer Name'] = data['Customer Name'].str.title()  # Capitalize names\n",
    "\n",
    "# ... (Additional cleaning steps as needed)\n",
    "\n",
    "# Save the cleaned data to a new CSV file\n",
    "data.to_csv('cleaned_customer_data.csv', index=False)\n",
    "\n",
    "# Use code with caution.\n"
   ]
  },
  {
   "cell_type": "code",
   "execution_count": null,
   "id": "e4d12d43",
   "metadata": {
    "vscode": {
     "languageId": "plaintext"
    }
   },
   "outputs": [],
   "source": [
    "# Calculate the total spent by each customer\n",
    "data['Total Spent'] = data['Purchase 1'] + data['Purchase 2'] + data['Purchase 3']\n",
    "\n",
    "# Group data by customer and calculate aggregate statistics\n",
    "summary = data.groupby('Customer Name').agg({\n",
    "    'Total Spent': 'sum',\n",
    "    'Purchase 1': 'count'   # Count the number of purchases\n",
    "}).rename(columns={'Purchase 1': 'Number of Purchases'})\n",
    "\n",
    "# Sort the summary by total spent in descending order\n",
    "summary = summary.sort_values('Total Spent', ascending=False)\n",
    "\n",
    "# Print the summary\n",
    "print(summary)\n"
   ]
  }
 ],
 "metadata": {
  "language_info": {
   "name": "python"
  }
 },
 "nbformat": 4,
 "nbformat_minor": 5
}
